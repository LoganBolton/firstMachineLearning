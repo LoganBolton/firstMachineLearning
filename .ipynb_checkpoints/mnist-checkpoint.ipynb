{
 "cells": [
  {
   "cell_type": "code",
   "execution_count": 4,
   "id": "b497d433-38eb-403a-a466-dd016ec8c18d",
   "metadata": {},
   "outputs": [
    {
     "name": "stdout",
     "output_type": "stream",
     "text": [
      "success\n"
     ]
    }
   ],
   "source": [
    "import keras\n",
    "from keras.datasets import mnist\n",
    "from keras.models import Sequential\n",
    "from keras.layers import Dense, Dropout, Flatten\n",
    "from keras.layers import Conv2D, MaxPooling2D\n",
    "from keras import backend as K\n",
    "\n",
    "print(\"success\")"
   ]
  },
  {
   "cell_type": "code",
   "execution_count": 1,
   "id": "1a8f9892-1712-4030-b93f-c90172e5bfd8",
   "metadata": {},
   "outputs": [
    {
     "name": "stdout",
     "output_type": "stream",
     "text": [
      "test\n"
     ]
    }
   ],
   "source": [
    "print(\"test\")"
   ]
  },
  {
   "cell_type": "code",
   "execution_count": 5,
   "id": "4ca7ae4d-bea8-40bf-b258-02fb9a40dbda",
   "metadata": {},
   "outputs": [
    {
     "name": "stdout",
     "output_type": "stream",
     "text": [
      "x_train shape: (60000, 28, 28, 1)\n",
      "60000 train samples\n",
      "10000 test samples\n"
     ]
    }
   ],
   "source": [
    "(x_train, y_train), (x_test, y_test) = mnist.load_data()\n",
    "\n",
    "x_train = x_train.reshape(x_train.shape[0], 28, 28, 1)\n",
    "x_test = x_test.reshape(x_test.shape[0], 28, 28, 1)\n",
    "input_shape = (28, 28, 1)\n",
    "\n",
    "#convert class vectors to binary class matrices\n",
    "y_train = keras.utils.to_categorical(y_train, 10)\n",
    "y_test = keras.utils.to_categorical(y_test,10)\n",
    "\n",
    "x_train = x_train.astype('float32')\n",
    "x_test = x_test.astype('float32')\n",
    "x_train /= 255\n",
    "x_test /= 255\n",
    "print('x_train shape:', x_train.shape)\n",
    "print(x_train.shape[0], 'train samples')\n",
    "print(x_test.shape[0], 'test samples')\n",
    "\n",
    "batch_size = 128 \n",
    "num_classes = 10\n",
    "epochs = 10"
   ]
  },
  {
   "cell_type": "code",
   "execution_count": 6,
   "id": "d11dfb22-1e0e-477f-ab74-a89393af985f",
   "metadata": {},
   "outputs": [
    {
     "name": "stdout",
     "output_type": "stream",
     "text": [
      "success\n"
     ]
    }
   ],
   "source": [
    "model = Sequential()\n",
    "model.add(Conv2D(32, kernel_size=(3, 3),activation='relu',input_shape=input_shape))\n",
    "model.add(Conv2D(64, (3, 3), activation='relu'))\n",
    "model.add(MaxPooling2D(pool_size=(2, 2)))\n",
    "model.add(Dropout(0.25))\n",
    "model.add(Flatten())\n",
    "model.add(Dense(256, activation='relu'))\n",
    "model.add(Dropout(0.5))\n",
    "model.add(Dense(num_classes, activation='softmax'))\n",
    "model.compile(loss=keras.losses.categorical_crossentropy, optimizer=keras.optimizers.Adadelta(), metrics=['accuracy'])\n",
    "print(\"success\")"
   ]
  },
  {
   "cell_type": "code",
   "execution_count": 7,
   "id": "ffeae49d-ae08-403a-82e1-66d63e49ec3a",
   "metadata": {},
   "outputs": [
    {
     "name": "stdout",
     "output_type": "stream",
     "text": [
      "Epoch 1/10\n",
      "469/469 [==============================] - 55s 115ms/step - loss: 2.2817 - accuracy: 0.1565 - val_loss: 2.2544 - val_accuracy: 0.3559\n",
      "Epoch 2/10\n",
      "469/469 [==============================] - 54s 115ms/step - loss: 2.2354 - accuracy: 0.2691 - val_loss: 2.1969 - val_accuracy: 0.5198\n",
      "Epoch 3/10\n",
      "469/469 [==============================] - 54s 115ms/step - loss: 2.1741 - accuracy: 0.3676 - val_loss: 2.1188 - val_accuracy: 0.6059\n",
      "Epoch 4/10\n",
      "469/469 [==============================] - 54s 115ms/step - loss: 2.0878 - accuracy: 0.4541 - val_loss: 2.0056 - val_accuracy: 0.6631\n",
      "Epoch 5/10\n",
      "469/469 [==============================] - 64s 136ms/step - loss: 1.9633 - accuracy: 0.5301 - val_loss: 1.8396 - val_accuracy: 0.7117\n",
      "Epoch 6/10\n",
      "469/469 [==============================] - 55s 118ms/step - loss: 1.7853 - accuracy: 0.5959 - val_loss: 1.6104 - val_accuracy: 0.7488\n",
      "Epoch 7/10\n",
      "469/469 [==============================] - 55s 117ms/step - loss: 1.5616 - accuracy: 0.6406 - val_loss: 1.3452 - val_accuracy: 0.7875\n",
      "Epoch 8/10\n",
      "469/469 [==============================] - 54s 116ms/step - loss: 1.3389 - accuracy: 0.6736 - val_loss: 1.1001 - val_accuracy: 0.8113\n",
      "Epoch 9/10\n",
      "469/469 [==============================] - 63s 135ms/step - loss: 1.1476 - accuracy: 0.7002 - val_loss: 0.9098 - val_accuracy: 0.8271\n",
      "Epoch 10/10\n",
      "469/469 [==============================] - 55s 116ms/step - loss: 1.0077 - accuracy: 0.7209 - val_loss: 0.7764 - val_accuracy: 0.8365\n",
      "The model has successfully trained\n",
      "Saving the model as mnist.h5\n"
     ]
    },
    {
     "name": "stderr",
     "output_type": "stream",
     "text": [
      "/usr/local/lib/python3.11/site-packages/keras/src/engine/training.py:3079: UserWarning: You are saving your model as an HDF5 file via `model.save()`. This file format is considered legacy. We recommend using instead the native Keras format, e.g. `model.save('my_model.keras')`.\n",
      "  saving_api.save_model(\n"
     ]
    }
   ],
   "source": [
    "hist = model.fit(x_train, y_train, batch_size=batch_size,\n",
    "                 epochs=epochs, verbose=1, validation_data=(x_test, y_test))\n",
    "print(\"The model has successfully trained\")\n",
    "model.save('mnist.keras')\n",
    "print(\"Saving the model as mnist.h5\")"
   ]
  }
 ],
 "metadata": {
  "kernelspec": {
   "display_name": "Python 3 (ipykernel)",
   "language": "python",
   "name": "python3"
  },
  "language_info": {
   "codemirror_mode": {
    "name": "ipython",
    "version": 3
   },
   "file_extension": ".py",
   "mimetype": "text/x-python",
   "name": "python",
   "nbconvert_exporter": "python",
   "pygments_lexer": "ipython3",
   "version": "3.11.4"
  }
 },
 "nbformat": 4,
 "nbformat_minor": 5
}
