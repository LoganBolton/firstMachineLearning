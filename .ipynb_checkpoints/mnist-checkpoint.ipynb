{
 "cells": [
  {
   "cell_type": "code",
   "execution_count": 1,
   "id": "94e60c24-1fed-4d45-b12a-1fdd122f27d9",
   "metadata": {},
   "outputs": [
    {
     "name": "stderr",
     "output_type": "stream",
     "text": [
      "2023-11-05 16:04:20.903834: I tensorflow/core/platform/cpu_feature_guard.cc:182] This TensorFlow binary is optimized to use available CPU instructions in performance-critical operations.\n",
      "To enable the following instructions: AVX2 FMA, in other operations, rebuild TensorFlow with the appropriate compiler flags.\n"
     ]
    },
    {
     "name": "stdout",
     "output_type": "stream",
     "text": [
      "success\n",
      "x_train shape: (60000, 28, 28, 1)\n",
      "60000 train samples\n",
      "10000 test samples\n",
      "success\n"
     ]
    }
   ],
   "source": [
    "\n",
    "import keras\n",
    "from keras.datasets import mnist\n",
    "from keras.models import Sequential\n",
    "from keras.layers import Dense, Dropout, Flatten\n",
    "from keras.layers import Conv2D, MaxPooling2D\n",
    "from keras import backend as K\n",
    "\n",
    "print(\"success\")\n",
    "\n",
    "(x_train, y_train), (x_test, y_test) = mnist.load_data()\n",
    "\n",
    "x_train = x_train.reshape(x_train.shape[0], 28, 28, 1)\n",
    "x_test = x_test.reshape(x_test.shape[0], 28, 28, 1)\n",
    "input_shape = (28, 28, 1)\n",
    "\n",
    "#convert class vectors to binary class matrices\n",
    "y_train = keras.utils.to_categorical(y_train, 10)\n",
    "y_test = keras.utils.to_categorical(y_test,10)\n",
    "\n",
    "x_train = x_train.astype('float32')\n",
    "x_test = x_test.astype('float32')\n",
    "x_train /= 255\n",
    "x_test /= 255\n",
    "print('x_train shape:', x_train.shape)\n",
    "print(x_train.shape[0], 'train samples')\n",
    "print(x_test.shape[0], 'test samples')\n",
    "\n",
    "batch_size = 128 \n",
    "num_classes = 10\n",
    "epochs = 10\n",
    "\n",
    "model = Sequential()\n",
    "model.add(Conv2D(32, kernel_size=(3, 3),activation='relu',input_shape=input_shape))\n",
    "model.add(Conv2D(64, (3, 3), activation='relu'))\n",
    "model.add(MaxPooling2D(pool_size=(2, 2)))\n",
    "model.add(Dropout(0.25))\n",
    "model.add(Flatten())\n",
    "model.add(Dense(256, activation='relu'))\n",
    "model.add(Dropout(0.5))\n",
    "model.add(Dense(num_classes, activation='softmax'))\n",
    "model.compile(loss=keras.losses.categorical_crossentropy, optimizer=keras.optimizers.Adadelta(), metrics=['accuracy'])\n",
    "print(\"success2\")"
   ]
  },
  {
   "cell_type": "code",
   "execution_count": 13,
   "id": "ffeae49d-ae08-403a-82e1-66d63e49ec3a",
   "metadata": {},
   "outputs": [
    {
     "name": "stdout",
     "output_type": "stream",
     "text": [
      "Epoch 1/10\n",
      "469/469 [==============================] - 59s 123ms/step - loss: 2.2785 - accuracy: 0.1566 - val_loss: 2.2276 - val_accuracy: 0.4633\n",
      "Epoch 2/10\n",
      "469/469 [==============================] - 59s 126ms/step - loss: 2.1974 - accuracy: 0.3122 - val_loss: 2.1301 - val_accuracy: 0.6329\n",
      "Epoch 3/10\n",
      "469/469 [==============================] - 59s 125ms/step - loss: 2.0950 - accuracy: 0.4385 - val_loss: 1.9957 - val_accuracy: 0.7020\n",
      "Epoch 4/10\n",
      "469/469 [==============================] - 55s 117ms/step - loss: 1.9507 - accuracy: 0.5289 - val_loss: 1.8080 - val_accuracy: 0.7364\n",
      "Epoch 5/10\n",
      "469/469 [==============================] - 54s 116ms/step - loss: 1.7584 - accuracy: 0.5950 - val_loss: 1.5679 - val_accuracy: 0.7569\n",
      "Epoch 6/10\n",
      "469/469 [==============================] - 55s 118ms/step - loss: 1.5347 - accuracy: 0.6379 - val_loss: 1.3071 - val_accuracy: 0.7796\n",
      "Epoch 7/10\n",
      "469/469 [==============================] - 55s 118ms/step - loss: 1.3141 - accuracy: 0.6733 - val_loss: 1.0738 - val_accuracy: 0.7994\n",
      "Epoch 8/10\n",
      "469/469 [==============================] - 55s 117ms/step - loss: 1.1334 - accuracy: 0.7008 - val_loss: 0.8960 - val_accuracy: 0.8163\n",
      "Epoch 9/10\n",
      "469/469 [==============================] - 55s 117ms/step - loss: 1.0031 - accuracy: 0.7218 - val_loss: 0.7706 - val_accuracy: 0.8309\n",
      "Epoch 10/10\n",
      "469/469 [==============================] - 55s 118ms/step - loss: 0.9041 - accuracy: 0.7397 - val_loss: 0.6822 - val_accuracy: 0.8412\n",
      "The model has successfully trained\n",
      "Saving the model as mnist.h5\n"
     ]
    }
   ],
   "source": [
    "hist = model.fit(x_train, y_train, batch_size=batch_size,\n",
    "                 epochs=epochs, verbose=1, validation_data=(x_test, y_test))\n",
    "print(\"The model has successfully trained\")\n",
    "model.save('mnist.keras')\n",
    "print(\"Saving the model as mnist.h5\")"
   ]
  },
  {
   "cell_type": "code",
   "execution_count": 3,
   "id": "1d990de5-f483-4fcb-a74f-a31759f3a3cf",
   "metadata": {},
   "outputs": [
    {
     "ename": "NameError",
     "evalue": "name 'model' is not defined",
     "output_type": "error",
     "traceback": [
      "\u001b[0;31m---------------------------------------------------------------------------\u001b[0m",
      "\u001b[0;31mNameError\u001b[0m                                 Traceback (most recent call last)",
      "Cell \u001b[0;32mIn[3], line 1\u001b[0m\n\u001b[0;32m----> 1\u001b[0m score \u001b[38;5;241m=\u001b[39m \u001b[43mmodel\u001b[49m\u001b[38;5;241m.\u001b[39mevaluate(x_test, y_test, verbose\u001b[38;5;241m=\u001b[39m\u001b[38;5;241m0\u001b[39m)\n\u001b[1;32m      2\u001b[0m \u001b[38;5;28mprint\u001b[39m(\u001b[38;5;124m'\u001b[39m\u001b[38;5;124mTest loss:\u001b[39m\u001b[38;5;124m'\u001b[39m, score[\u001b[38;5;241m0\u001b[39m])\n\u001b[1;32m      3\u001b[0m \u001b[38;5;28mprint\u001b[39m(\u001b[38;5;124m'\u001b[39m\u001b[38;5;124mTest accuracy:\u001b[39m\u001b[38;5;124m'\u001b[39m, score[\u001b[38;5;241m1\u001b[39m])\n",
      "\u001b[0;31mNameError\u001b[0m: name 'model' is not defined"
     ]
    }
   ],
   "source": [
    "score = model.evaluate(x_test, y_test, verbose=0)\n",
    "print('Test loss:', score[0])\n",
    "print('Test accuracy:', score[1])\n"
   ]
  }
 ],
 "metadata": {
  "kernelspec": {
   "display_name": "Python 3 (ipykernel)",
   "language": "python",
   "name": "python3"
  },
  "language_info": {
   "codemirror_mode": {
    "name": "ipython",
    "version": 3
   },
   "file_extension": ".py",
   "mimetype": "text/x-python",
   "name": "python",
   "nbconvert_exporter": "python",
   "pygments_lexer": "ipython3",
   "version": "3.11.6"
  }
 },
 "nbformat": 4,
 "nbformat_minor": 5
}
