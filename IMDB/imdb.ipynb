{
 "cells": [
  {
   "cell_type": "code",
   "execution_count": 5,
   "id": "8eb7c275-3dd3-44f2-bc81-fe4becf5fee1",
   "metadata": {},
   "outputs": [
    {
     "name": "stdout",
     "output_type": "stream",
     "text": [
      "test\n"
     ]
    }
   ],
   "source": [
    "import re\n",
    "import os\n",
    "import string\n",
    "print(\"test\")"
   ]
  },
  {
   "cell_type": "code",
   "execution_count": 6,
   "id": "cff11ba0-f7bb-49a0-96b3-528fdf9b1c7d",
   "metadata": {},
   "outputs": [],
   "source": [
    "def process_text_files(folder_path):\n",
    "    # Loop through all the items in the directory\n",
    "    for file_name in os.listdir(folder_path):\n",
    "        # Check for .txt files\n",
    "        if file_name.endswith('.txt'):\n",
    "            file_path = os.path.join(folder_path, file_name)\n",
    "            # Open the text file\n",
    "            with open(file_path, 'r') as file:\n",
    "                text = file.read()\n",
    "            # Convert text to lowercase\n",
    "            text = text.lower()\n",
    "            # Remove punctuation using str.translate\n",
    "            text = text.translate(str.maketrans('', '', string.punctuation))\n",
    "            # Write the modified text back to the file\n",
    "            with open(file_path, 'w') as file:\n",
    "                file.write(text)\n",
    "            print(f\"Processed file: {file_name}\")\n",
    "\n",
    "\n"
   ]
  },
  {
   "cell_type": "code",
   "execution_count": 14,
   "id": "d090cd35-1c22-4efe-a022-5740141652dc",
   "metadata": {},
   "outputs": [
    {
     "name": "stderr",
     "output_type": "stream",
     "text": [
      "[nltk_data] Downloading package punkt to /Users/Everlie/nltk_data...\n",
      "[nltk_data]   Unzipping tokenizers/punkt.zip.\n"
     ]
    },
    {
     "data": {
      "text/plain": [
       "True"
      ]
     },
     "execution_count": 14,
     "metadata": {},
     "output_type": "execute_result"
    }
   ],
   "source": [
    "from nltk.tokenize import word_tokenize\n",
    "import nltk\n",
    "nltk.download('punkt')  # Download the necessary datasets\n"
   ]
  },
  {
   "cell_type": "code",
   "execution_count": 15,
   "id": "938abf53-be39-4d21-a155-cc69f660a5e9",
   "metadata": {},
   "outputs": [
    {
     "name": "stdout",
     "output_type": "stream",
     "text": [
      "['Here', 'is', 'an', 'example', 'sentence', '.', 'Let', \"'s\", 'see', 'how', 'it', \"'s\", 'tokenized', '!']\n"
     ]
    }
   ],
   "source": [
    "text = \"Here is an example sentence. Let's see how it's tokenized!\"\n",
    "tokens = word_tokenize(text)\n",
    "print(tokens)"
   ]
  }
 ],
 "metadata": {
  "kernelspec": {
   "display_name": "Python 3 (ipykernel)",
   "language": "python",
   "name": "python3"
  },
  "language_info": {
   "codemirror_mode": {
    "name": "ipython",
    "version": 3
   },
   "file_extension": ".py",
   "mimetype": "text/x-python",
   "name": "python",
   "nbconvert_exporter": "python",
   "pygments_lexer": "ipython3",
   "version": "3.11.6"
  }
 },
 "nbformat": 4,
 "nbformat_minor": 5
}
